{
  "nbformat": 4,
  "nbformat_minor": 0,
  "metadata": {
    "colab": {
      "provenance": []
    },
    "kernelspec": {
      "name": "python3",
      "display_name": "Python 3"
    },
    "language_info": {
      "name": "python"
    }
  },
  "cells": [
    {
      "cell_type": "code",
      "source": [
        "import numpy as np\n",
        "import matplotlib.pyplot as plt\n",
        "import matplotlib.colors\n",
        "from sympy import *\n",
        "from scipy.integrate import *\n",
        "\n",
        "from mpl_toolkits.mplot3d import Axes3D\n",
        "from matplotlib import cm\n",
        "from matplotlib.ticker import LinearLocator, FormatStrFormatter\n",
        "\n",
        "init_printing()"
      ],
      "metadata": {
        "id": "yjVjNNcYfHbe"
      },
      "execution_count": null,
      "outputs": []
    },
    {
      "cell_type": "code",
      "execution_count": null,
      "metadata": {
        "id": "oz9HPdwBfCVl"
      },
      "outputs": [],
      "source": [
        "from sympy import Function, dsolve, solve, Derivative, symbols\n",
        "from sympy.abc import x\n",
        "x = symbols('x')\n",
        "\n",
        "y = Function('y')(x)\n",
        "y_ = Derivative(y, x)\n",
        "\n",
        "problem = Eq(y_,3-2*y)\n",
        "#problem = Eq(y_,t+2*y)\n",
        "problem"
      ]
    },
    {
      "cell_type": "code",
      "source": [
        "solution = dsolve(problem, y)\n",
        "solution"
      ],
      "metadata": {
        "id": "udEYLON2fM3M"
      },
      "execution_count": null,
      "outputs": []
    },
    {
      "cell_type": "code",
      "source": [
        "viewport = (-5,5),(0,8)\n",
        "C1 = np.linspace(1,5,5)\n",
        "\n",
        "def solution(C1):\n",
        "  return lambda x : (C1*np.exp(-2*x))/2 + (3/2)\n",
        "\n",
        "n = 20\n",
        "init_x = viewport[0][0]\n",
        "end_x = viewport[0][1]\n",
        "init_y = viewport[1][0]\n",
        "end_y = viewport[1][1]\n",
        "\n",
        "# daftar vertices\n",
        "x = np.linspace(init_x, end_x, n+1)\n",
        "y = np.linspace(init_y, end_y, n+1)\n",
        "\n",
        "# persamaan diferensial\n",
        "def f(x,y):\n",
        "  return 3-2*y\n",
        "\n",
        "# menggambar medan gradien\n",
        "# i adalah koordinat x titik tengah garis singgung\n",
        "# j adalah koordinat y titik tengah garis singgung\n",
        "for i in x:\n",
        "  for j in y:\n",
        "    # minta kemiringan garis singgung\n",
        "    m = f(i,j)\n",
        "    # minta koordinat x\n",
        "    xs = np.linspace(i-(end_x-init_x)/(5*n), i+(end_x-init_x)/(5*n), 2)\n",
        "    # fungsi koordinat y given x1, y1, dan m\n",
        "    def y2(x1,y1):\n",
        "      y = m*(xs-x1) + y1\n",
        "      return y\n",
        "    plt.plot(xs, y2(i,j), 'k')\n",
        "\n",
        "# siapin buat ngegambar\n",
        "x = np.linspace(init_x, end_x, 1000+1)\n",
        "for i in C1:\n",
        "  plt.plot(x,solution(i)(x))\n",
        "\n",
        "plt.xlim([init_x,end_x])\n",
        "plt.ylim([init_y,end_y])"
      ],
      "metadata": {
        "id": "m_m6vEj9fVcE"
      },
      "execution_count": null,
      "outputs": []
    }
  ]
}